{
 "cells": [
  {
   "cell_type": "code",
   "execution_count": 1,
   "metadata": {},
   "outputs": [],
   "source": [
    "import pandas as pd"
   ]
  },
  {
   "cell_type": "code",
   "execution_count": 2,
   "metadata": {},
   "outputs": [
    {
     "name": "stdout",
     "output_type": "stream",
     "text": [
      "Null values in each column:\n",
      "ID                  0\n",
      "LEAGUE_NAME         0\n",
      "ASSOCIATION_NAME    0\n",
      "SPORT_NAME          0\n",
      "dtype: int64\n",
      "There are no rows with null values in the DataFrame.\n"
     ]
    }
   ],
   "source": [
    "file_path = \"C:\\\\Users\\\\Admin\\\\bi-engineer-interview-task-project\\\\Task Sample files\\\\Data for Task\\\\sb_events.csv\"\n",
    "df = pd.read_csv(file_path)\n",
    "\n",
    "null_values = df.isnull().sum()\n",
    "print(\"Null values in each column:\")\n",
    "print(null_values)\n",
    "\n",
    "# Check if any row has null values\n",
    "if df.isnull().values.any():\n",
    "    print(\"There are rows with null values in the DataFrame.\")\n",
    "else:\n",
    "    print(\"There are no rows with null values in the DataFrame.\")"
   ]
  }
 ],
 "metadata": {
  "kernelspec": {
   "display_name": "Python 3",
   "language": "python",
   "name": "python3"
  },
  "language_info": {
   "codemirror_mode": {
    "name": "ipython",
    "version": 3
   },
   "file_extension": ".py",
   "mimetype": "text/x-python",
   "name": "python",
   "nbconvert_exporter": "python",
   "pygments_lexer": "ipython3",
   "version": "3.12.1"
  }
 },
 "nbformat": 4,
 "nbformat_minor": 2
}
