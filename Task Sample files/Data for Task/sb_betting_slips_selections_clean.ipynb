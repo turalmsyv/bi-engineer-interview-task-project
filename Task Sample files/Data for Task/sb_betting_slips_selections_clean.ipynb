{
 "cells": [
  {
   "cell_type": "code",
   "execution_count": 1,
   "metadata": {},
   "outputs": [],
   "source": [
    "import pandas as pd\n",
    "file_path = \"C:\\\\Users\\\\Admin\\\\bi-engineer-interview-task-project\\\\Task Sample files\\\\Data for Task\\\\sb_betting_slips_selections.csv\"\n",
    "df = pd.read_csv(file_path)"
   ]
  },
  {
   "cell_type": "code",
   "execution_count": 3,
   "metadata": {},
   "outputs": [],
   "source": [
    "# Drop rows where only the second column has null values\n",
    "df_cleaned = df.dropna(subset=[df.columns[1]])\n",
    "\n",
    "output_file_path = \"C:\\\\Users\\\\Admin\\\\bi-engineer-interview-task-project\\\\Task Sample files\\\\Data for Task\\\\sb_betting_slips_selections_cleaned.csv\"\n",
    "\n",
    "# Save the cleaned data to a new CSV file\n",
    "df_cleaned.to_csv(output_file_path, index=False)"
   ]
  },
  {
   "cell_type": "code",
   "execution_count": null,
   "metadata": {},
   "outputs": [],
   "source": []
  },
  {
   "cell_type": "code",
   "execution_count": null,
   "metadata": {},
   "outputs": [],
   "source": []
  }
 ],
 "metadata": {
  "kernelspec": {
   "display_name": "Python 3",
   "language": "python",
   "name": "python3"
  },
  "language_info": {
   "codemirror_mode": {
    "name": "ipython",
    "version": 3
   },
   "file_extension": ".py",
   "mimetype": "text/x-python",
   "name": "python",
   "nbconvert_exporter": "python",
   "pygments_lexer": "ipython3",
   "version": "3.12.1"
  }
 },
 "nbformat": 4,
 "nbformat_minor": 2
}
