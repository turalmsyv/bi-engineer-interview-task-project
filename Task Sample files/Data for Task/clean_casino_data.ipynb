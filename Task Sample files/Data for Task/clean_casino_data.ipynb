{
 "cells": [
  {
   "cell_type": "code",
   "execution_count": 2,
   "metadata": {},
   "outputs": [],
   "source": [
    "import pandas as pd"
   ]
  },
  {
   "cell_type": "code",
   "execution_count": 8,
   "metadata": {},
   "outputs": [],
   "source": [
    "#file path\n",
    "file_path_casino_csv = r'C:\\Users\\Admin\\bi-engineer-interview-task-project\\Task Sample files\\Data for Task\\Casino Data.csv'\n",
    "\n",
    "df = pd.read_csv(file_path_casino_csv)"
   ]
  },
  {
   "cell_type": "code",
   "execution_count": 9,
   "metadata": {},
   "outputs": [],
   "source": [
    "#drop rows for Casino Data Numbers of spins played, amount bet, profit - because this analize is required for number metrics and profit analysis\n",
    "df_cleaned = df.dropna(subset=[\"Qty. Spin\", \"Turnover\", \"Profit\"])"
   ]
  },
  {
   "cell_type": "code",
   "execution_count": 10,
   "metadata": {},
   "outputs": [],
   "source": [
    "output_file_path = \"C:\\\\Users\\\\Admin\\\\bi-engineer-interview-task-project\\\\Task Sample files\\\\Data for Task\\\\casino_data_cleaned.csv\"\n",
    "# Save the cleaned data to a new CSV file\n",
    "df_cleaned.to_csv(output_file_path, index=False)"
   ]
  },
  {
   "cell_type": "code",
   "execution_count": null,
   "metadata": {},
   "outputs": [],
   "source": []
  },
  {
   "cell_type": "code",
   "execution_count": null,
   "metadata": {},
   "outputs": [],
   "source": []
  },
  {
   "cell_type": "code",
   "execution_count": null,
   "metadata": {},
   "outputs": [],
   "source": []
  }
 ],
 "metadata": {
  "kernelspec": {
   "display_name": "Python 3",
   "language": "python",
   "name": "python3"
  },
  "language_info": {
   "codemirror_mode": {
    "name": "ipython",
    "version": 3
   },
   "file_extension": ".py",
   "mimetype": "text/x-python",
   "name": "python",
   "nbconvert_exporter": "python",
   "pygments_lexer": "ipython3",
   "version": "3.12.1"
  }
 },
 "nbformat": 4,
 "nbformat_minor": 2
}
