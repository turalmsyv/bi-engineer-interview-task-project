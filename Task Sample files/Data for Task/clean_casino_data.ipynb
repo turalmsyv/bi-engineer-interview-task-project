{
 "cells": [
  {
   "cell_type": "code",
   "execution_count": 13,
   "metadata": {},
   "outputs": [],
   "source": [
    "import pandas as pd\n",
    "\n",
    "# File path\n",
    "file_path_casino_csv = r'C:\\Users\\Admin\\bi-engineer-interview-task-project\\Task Sample files\\Data for Task\\Casino Data.csv'\n",
    "\n",
    "# Read the CSV file\n",
    "df = pd.read_csv(file_path_casino_csv)"
   ]
  },
  {
   "cell_type": "code",
   "execution_count": 14,
   "metadata": {},
   "outputs": [],
   "source": [
    "# Count the number of null values before dropping\n",
    "null_count_before = df.isnull().sum()"
   ]
  },
  {
   "cell_type": "code",
   "execution_count": 16,
   "metadata": {},
   "outputs": [],
   "source": [
    "# Drop rows with null values in specified columns\n",
    "df_cleaned = df.dropna(subset=[\"Qty. Spin\", \"Turnover\", \"Profit\"])\n",
    "\n",
    "# Count the number of null values after dropping\n",
    "null_count_after = df_cleaned.isnull().sum()"
   ]
  },
  {
   "cell_type": "code",
   "execution_count": 19,
   "metadata": {},
   "outputs": [
    {
     "name": "stdout",
     "output_type": "stream",
     "text": [
      "\n",
      "Number of null values after dropping:\n",
      "Month             0\n",
      "ID                0\n",
      "Provider Name     0\n",
      "Game Name         0\n",
      "Game Type Name    0\n",
      "Qty. Spin         0\n",
      "Turnover          0\n",
      "Profit            0\n",
      "Client            0\n",
      "dtype: int64\n"
     ]
    }
   ],
   "source": [
    "print(\"\\nNumber of null values after dropping:\")\n",
    "print(null_count_after)\n",
    "\n",
    "# Output file path\n",
    "output_file_path = \"C:\\\\Users\\\\Admin\\\\bi-engineer-interview-task-project\\\\Task Sample files\\\\Data for Task\\\\casino_data_cleaned.csv\"\n",
    "\n",
    "# Save the cleaned data to a new CSV file\n",
    "df_cleaned.to_csv(output_file_path, index=False)"
   ]
  }
 ],
 "metadata": {
  "kernelspec": {
   "display_name": "Python 3",
   "language": "python",
   "name": "python3"
  },
  "language_info": {
   "codemirror_mode": {
    "name": "ipython",
    "version": 3
   },
   "file_extension": ".py",
   "mimetype": "text/x-python",
   "name": "python",
   "nbconvert_exporter": "python",
   "pygments_lexer": "ipython3",
   "version": "3.12.1"
  }
 },
 "nbformat": 4,
 "nbformat_minor": 2
}
