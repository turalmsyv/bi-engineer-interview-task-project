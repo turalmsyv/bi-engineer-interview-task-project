{
 "cells": [
  {
   "cell_type": "code",
   "execution_count": 1,
   "metadata": {},
   "outputs": [],
   "source": [
    "import pandas as pd"
   ]
  },
  {
   "cell_type": "code",
   "execution_count": 2,
   "metadata": {},
   "outputs": [],
   "source": [
    "file_path = r'C:\\Users\\Admin\\bi-engineer-interview-task-project\\Task Sample files\\Data for Task\\sb_events.csv'\n",
    "df = pd.read_csv(file_path)"
   ]
  },
  {
   "cell_type": "code",
   "execution_count": 3,
   "metadata": {},
   "outputs": [
    {
     "name": "stdout",
     "output_type": "stream",
     "text": [
      "ID                   int64\n",
      "LEAGUE_NAME         object\n",
      "ASSOCIATION_NAME    object\n",
      "SPORT_NAME          object\n",
      "dtype: object\n",
      "                 ID\n",
      "count  6.228856e+06\n",
      "mean   3.804977e+06\n",
      "std    1.806676e+06\n",
      "min    1.538640e+05\n",
      "25%    2.247952e+06\n",
      "50%    3.808358e+06\n",
      "75%    5.365609e+06\n",
      "max    6.931132e+06\n",
      "ID                  0\n",
      "LEAGUE_NAME         0\n",
      "ASSOCIATION_NAME    0\n",
      "SPORT_NAME          0\n",
      "dtype: int64\n",
      "Empty DataFrame\n",
      "Columns: [ID, LEAGUE_NAME, ASSOCIATION_NAME, SPORT_NAME]\n",
      "Index: []\n",
      "\n",
      "Total duplicate rows: 0\n"
     ]
    }
   ],
   "source": [
    "# Checking data types\n",
    "data_types = df.dtypes\n",
    "print(data_types)\n",
    "\n",
    "#summary\n",
    "summary_stats = df.describe()\n",
    "print(summary_stats)\n",
    "\n",
    "#checking missing values\n",
    "missing_values = df.isnull().sum()\n",
    "print(missing_values)\n",
    "\n",
    "#checking duplicates\n",
    "duplicates = df[df.duplicated(keep=False)]\n",
    "print(duplicates)\n",
    "\n",
    "#total duplicates count\n",
    "total_duplicates = len(duplicates)\n",
    "print(f\"\\nTotal duplicate rows: {total_duplicates}\")"
   ]
  }
 ],
 "metadata": {
  "kernelspec": {
   "display_name": "Python 3",
   "language": "python",
   "name": "python3"
  },
  "language_info": {
   "codemirror_mode": {
    "name": "ipython",
    "version": 3
   },
   "file_extension": ".py",
   "mimetype": "text/x-python",
   "name": "python",
   "nbconvert_exporter": "python",
   "pygments_lexer": "ipython3",
   "version": "3.12.1"
  }
 },
 "nbformat": 4,
 "nbformat_minor": 2
}
