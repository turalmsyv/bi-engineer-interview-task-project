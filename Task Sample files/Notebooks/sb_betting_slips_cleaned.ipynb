{
 "cells": [
  {
   "cell_type": "code",
   "execution_count": 1,
   "metadata": {},
   "outputs": [],
   "source": [
    "import pandas as pd"
   ]
  },
  {
   "cell_type": "code",
   "execution_count": 2,
   "metadata": {},
   "outputs": [],
   "source": [
    "file_path = r'C:\\Users\\Admin\\bi-engineer-interview-task-project\\Task Sample files\\Data for Task\\sb_betting_slips.csv'\n",
    "df = pd.read_csv(file_path)"
   ]
  },
  {
   "cell_type": "code",
   "execution_count": 3,
   "metadata": {},
   "outputs": [
    {
     "name": "stdout",
     "output_type": "stream",
     "text": [
      "ID                   int64\n",
      "USER_ID              int64\n",
      "TYPE_NAME           object\n",
      "PLACED_TSTAMP       object\n",
      "STATE_NAME          object\n",
      "STAKE              float64\n",
      "WIN_AMOUNT         float64\n",
      "WIN_AMOUNT_PAID    float64\n",
      "ODDS               float64\n",
      "CLIENT_NAME         object\n",
      "COMPOSITION         object\n",
      "dtype: object\n",
      "                  ID        USER_ID          STAKE     WIN_AMOUNT  \\\n",
      "count  154725.000000  154725.000000  154725.000000  154725.000000   \n",
      "mean    78516.884052  213611.594345      40.449518      29.012688   \n",
      "std     45875.177281   60731.837763     187.091398     204.540998   \n",
      "min         1.000000  116480.000000       1.000000       0.000000   \n",
      "25%     38859.000000  158113.000000       2.000000       0.000000   \n",
      "50%     77677.000000  216161.000000       5.000000       0.000000   \n",
      "75%    118279.000000  259453.000000      20.000000       0.000000   \n",
      "max    159190.000000  342979.000000   10000.000000   14999.940000   \n",
      "\n",
      "       WIN_AMOUNT_PAID          ODDS  \n",
      "count    154725.000000  1.547250e+05  \n",
      "mean         29.010182  1.469965e+06  \n",
      "std         204.540633  1.089966e+08  \n",
      "min           0.000000  0.000000e+00  \n",
      "25%           0.000000  2.750000e+00  \n",
      "50%           0.000000  7.120000e+00  \n",
      "75%           0.000000  4.169000e+01  \n",
      "max       14999.940000  1.000000e+10  \n",
      "ID                 0\n",
      "USER_ID            0\n",
      "TYPE_NAME          0\n",
      "PLACED_TSTAMP      0\n",
      "STATE_NAME         0\n",
      "STAKE              0\n",
      "WIN_AMOUNT         0\n",
      "WIN_AMOUNT_PAID    0\n",
      "ODDS               0\n",
      "CLIENT_NAME        0\n",
      "COMPOSITION        0\n",
      "dtype: int64\n",
      "Empty DataFrame\n",
      "Columns: [ID, USER_ID, TYPE_NAME, PLACED_TSTAMP, STATE_NAME, STAKE, WIN_AMOUNT, WIN_AMOUNT_PAID, ODDS, CLIENT_NAME, COMPOSITION]\n",
      "Index: []\n",
      "\n",
      "Total duplicate rows: 0\n"
     ]
    }
   ],
   "source": [
    "# Checking data types\n",
    "data_types = df.dtypes\n",
    "print(data_types)\n",
    "\n",
    "#summary\n",
    "summary_stats = df.describe()\n",
    "print(summary_stats)\n",
    "\n",
    "#checking missing values\n",
    "missing_values = df.isnull().sum()\n",
    "print(missing_values)\n",
    "\n",
    "#checking duplicates\n",
    "duplicates = df[df.duplicated(keep=False)]\n",
    "print(duplicates)\n",
    "\n",
    "#total duplicates count\n",
    "total_duplicates = len(duplicates)\n",
    "print(f\"\\nTotal duplicate rows: {total_duplicates}\")"
   ]
  }
 ],
 "metadata": {
  "kernelspec": {
   "display_name": "Python 3",
   "language": "python",
   "name": "python3"
  },
  "language_info": {
   "codemirror_mode": {
    "name": "ipython",
    "version": 3
   },
   "file_extension": ".py",
   "mimetype": "text/x-python",
   "name": "python",
   "nbconvert_exporter": "python",
   "pygments_lexer": "ipython3",
   "version": "3.12.1"
  }
 },
 "nbformat": 4,
 "nbformat_minor": 2
}
