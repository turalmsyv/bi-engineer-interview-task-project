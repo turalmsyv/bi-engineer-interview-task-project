{
 "cells": [
  {
   "cell_type": "code",
   "execution_count": 4,
   "metadata": {},
   "outputs": [],
   "source": [
    "import pandas as pd"
   ]
  },
  {
   "cell_type": "code",
   "execution_count": 5,
   "metadata": {},
   "outputs": [],
   "source": [
    "file_path = r'C:\\Users\\Admin\\bi-engineer-interview-task-project\\Task Sample files\\Data for Task\\sb_betting_slips_selections.csv'\n",
    "df = pd.read_csv(file_path)"
   ]
  },
  {
   "cell_type": "code",
   "execution_count": 6,
   "metadata": {},
   "outputs": [
    {
     "name": "stdout",
     "output_type": "stream",
     "text": [
      "SLIP_ID                     int64\n",
      "EVENT_COMPETITOR_1_NAME    object\n",
      "EVENT_COMPETITOR_2_NAME    object\n",
      "EVENT_SPORT_NAME           object\n",
      "EVENT_LEAGUE_NAME          object\n",
      "MARKET_NAME                object\n",
      "EVENT_ID                    int64\n",
      "dtype: object\n",
      "             SLIP_ID      EVENT_ID\n",
      "count  602223.000000  6.022230e+05\n",
      "mean    81275.082521  6.454585e+06\n",
      "std     46048.564882  2.617969e+05\n",
      "min         1.000000  4.466193e+06\n",
      "25%     40171.500000  6.325367e+06\n",
      "50%     83253.000000  6.506103e+06\n",
      "75%    121594.000000  6.657551e+06\n",
      "max    159196.000000  6.927241e+06\n",
      "SLIP_ID                       0\n",
      "EVENT_COMPETITOR_1_NAME       1\n",
      "EVENT_COMPETITOR_2_NAME    8668\n",
      "EVENT_SPORT_NAME              0\n",
      "EVENT_LEAGUE_NAME             0\n",
      "MARKET_NAME                   0\n",
      "EVENT_ID                      0\n",
      "dtype: int64\n",
      "Empty DataFrame\n",
      "Columns: [SLIP_ID, EVENT_COMPETITOR_1_NAME, EVENT_COMPETITOR_2_NAME, EVENT_SPORT_NAME, EVENT_LEAGUE_NAME, MARKET_NAME, EVENT_ID]\n",
      "Index: []\n",
      "\n",
      "Total duplicate rows: 0\n"
     ]
    }
   ],
   "source": [
    "# Checking data types\n",
    "data_types = df.dtypes\n",
    "print(data_types)\n",
    "\n",
    "#summary\n",
    "summary_stats = df.describe()\n",
    "print(summary_stats)\n",
    "\n",
    "#checking missing values\n",
    "missing_values = df.isnull().sum()\n",
    "print(missing_values)\n",
    "\n",
    "#checking duplicates\n",
    "duplicates = df[df.duplicated(keep=False)]\n",
    "print(duplicates)\n",
    "\n",
    "#total duplicates count\n",
    "total_duplicates = len(duplicates)\n",
    "print(f\"\\nTotal duplicate rows: {total_duplicates}\")"
   ]
  },
  {
   "cell_type": "code",
   "execution_count": 7,
   "metadata": {},
   "outputs": [],
   "source": [
    "#after investigating , Event competitor 1 contains 1 null and this null value needs to be handled , because 2nd Competitor is not general bet type\n",
    "#however If Event Comptetitor 2 contains null values , that means all Comptetitor 1 values are combined bet types\n",
    "# Drop rows with null values in the second column\n",
    "df = df.dropna(subset=[df.columns[1]])\n",
    "\n",
    "# Reset the index if needed\n",
    "df.reset_index(drop=True, inplace=True)"
   ]
  },
  {
   "cell_type": "code",
   "execution_count": 8,
   "metadata": {},
   "outputs": [],
   "source": [
    "# Save the cleaned data to a new CSV file\n",
    "cleaned_file_path = r'C:\\Users\\Admin\\bi-engineer-interview-task-project\\Task Sample files\\Data for Task\\sb_betting_slips_selections_cleaned.csv'\n",
    "df.to_csv(cleaned_file_path, index=False)"
   ]
  }
 ],
 "metadata": {
  "kernelspec": {
   "display_name": "Python 3",
   "language": "python",
   "name": "python3"
  },
  "language_info": {
   "codemirror_mode": {
    "name": "ipython",
    "version": 3
   },
   "file_extension": ".py",
   "mimetype": "text/x-python",
   "name": "python",
   "nbconvert_exporter": "python",
   "pygments_lexer": "ipython3",
   "version": "3.12.1"
  }
 },
 "nbformat": 4,
 "nbformat_minor": 2
}
