{
 "cells": [
  {
   "cell_type": "code",
   "execution_count": 30,
   "metadata": {},
   "outputs": [],
   "source": [
    "import pandas as pd"
   ]
  },
  {
   "cell_type": "code",
   "execution_count": 31,
   "metadata": {},
   "outputs": [],
   "source": [
    "file_path = r'C:\\Users\\Admin\\bi-engineer-interview-task-project\\Task Sample files\\Data for Task\\Casino Data.csv'\n",
    "df = pd.read_csv(file_path)"
   ]
  },
  {
   "cell_type": "code",
   "execution_count": 32,
   "metadata": {},
   "outputs": [
    {
     "name": "stdout",
     "output_type": "stream",
     "text": [
      "Month             float64\n",
      "ID                  int64\n",
      "Provider Name      object\n",
      "Game Name          object\n",
      "Game Type Name     object\n",
      "Qty. Spin         float64\n",
      "Turnover          float64\n",
      "Profit            float64\n",
      "Client             object\n",
      "dtype: object\n",
      "              Month            ID      Qty. Spin       Turnover         Profit\n",
      "count  1.636810e+05  1.636810e+05  163608.000000  163608.000000  163608.000000\n",
      "mean   2.023400e+03  2.819865e+07      96.895188      53.850226       1.736943\n",
      "std    9.094975e-13  3.069735e+07     554.890908    1074.823619      82.584287\n",
      "min    2.023400e+03  6.400000e+01       0.000000       0.000000   -7421.220000\n",
      "25%    2.023400e+03  4.240677e+06       4.000000       0.800000       0.070000\n",
      "50%    2.023400e+03  9.470131e+06      15.000000       3.260000       0.590000\n",
      "75%    2.023400e+03  5.146809e+07      52.000000      14.560000       2.280000\n",
      "max    2.023400e+03  9.999828e+07   70940.000000  250984.280000   24387.860000\n",
      "Month              0\n",
      "ID                 0\n",
      "Provider Name      0\n",
      "Game Name          0\n",
      "Game Type Name    73\n",
      "Qty. Spin         73\n",
      "Turnover          73\n",
      "Profit            73\n",
      "Client             0\n",
      "dtype: int64\n",
      "        Month       ID                 Provider Name Game Name Game Type Name  \\\n",
      "21661  2023.4  8175962  Infingames_PragmaticPlayLive  Spaceman          Slots   \n",
      "56217  2023.4  8175962  Infingames_PragmaticPlayLive  Spaceman          Slots   \n",
      "\n",
      "       Qty. Spin  Turnover  Profit Client   \n",
      "21661        2.0      0.32    0.32       Y  \n",
      "56217        2.0      0.32    0.32       Y  \n",
      "\n",
      "Total duplicate rows: 2\n"
     ]
    }
   ],
   "source": [
    "# Checking data types\n",
    "data_types = df.dtypes\n",
    "print(data_types)\n",
    "\n",
    "#summary\n",
    "summary_stats = df.describe()\n",
    "print(summary_stats)\n",
    "\n",
    "#checking missing values\n",
    "missing_values = df.isnull().sum()\n",
    "print(missing_values)\n",
    "\n",
    "#checking duplicates\n",
    "duplicates = df[df.duplicated(keep=False)]\n",
    "print(duplicates)\n",
    "\n",
    "#total duplicates count\n",
    "total_duplicates = len(duplicates)\n",
    "print(f\"\\nTotal duplicate rows: {total_duplicates}\")"
   ]
  },
  {
   "cell_type": "code",
   "execution_count": 33,
   "metadata": {},
   "outputs": [],
   "source": [
    "#Fix datatype for Month column (since there is only 1 value)\n",
    "df['Month'] = pd.to_datetime('2023-04', format='%Y-%m')"
   ]
  },
  {
   "cell_type": "code",
   "execution_count": 34,
   "metadata": {},
   "outputs": [
    {
     "data": {
      "text/html": [
       "<div>\n",
       "<style scoped>\n",
       "    .dataframe tbody tr th:only-of-type {\n",
       "        vertical-align: middle;\n",
       "    }\n",
       "\n",
       "    .dataframe tbody tr th {\n",
       "        vertical-align: top;\n",
       "    }\n",
       "\n",
       "    .dataframe thead th {\n",
       "        text-align: right;\n",
       "    }\n",
       "</style>\n",
       "<table border=\"1\" class=\"dataframe\">\n",
       "  <thead>\n",
       "    <tr style=\"text-align: right;\">\n",
       "      <th></th>\n",
       "      <th>Month</th>\n",
       "      <th>ID</th>\n",
       "      <th>Provider Name</th>\n",
       "      <th>Game Name</th>\n",
       "      <th>Game Type Name</th>\n",
       "      <th>Qty. Spin</th>\n",
       "      <th>Turnover</th>\n",
       "      <th>Profit</th>\n",
       "      <th>Client</th>\n",
       "    </tr>\n",
       "  </thead>\n",
       "  <tbody>\n",
       "    <tr>\n",
       "      <th>0</th>\n",
       "      <td>2023-04-01</td>\n",
       "      <td>93897</td>\n",
       "      <td>Spribe_Original</td>\n",
       "      <td>Aviator</td>\n",
       "      <td>Instant Win</td>\n",
       "      <td>17.0</td>\n",
       "      <td>2.72</td>\n",
       "      <td>-0.46</td>\n",
       "      <td>Y</td>\n",
       "    </tr>\n",
       "    <tr>\n",
       "      <th>1</th>\n",
       "      <td>2023-04-01</td>\n",
       "      <td>93897</td>\n",
       "      <td>Spribe_Original</td>\n",
       "      <td>Mines</td>\n",
       "      <td>Instant Win</td>\n",
       "      <td>144.0</td>\n",
       "      <td>36.93</td>\n",
       "      <td>2.39</td>\n",
       "      <td>Y</td>\n",
       "    </tr>\n",
       "    <tr>\n",
       "      <th>2</th>\n",
       "      <td>2023-04-01</td>\n",
       "      <td>64</td>\n",
       "      <td>Infingames_PragmaticPlay</td>\n",
       "      <td>888 Gold</td>\n",
       "      <td>Slots</td>\n",
       "      <td>861.0</td>\n",
       "      <td>277.29</td>\n",
       "      <td>25.18</td>\n",
       "      <td>Y</td>\n",
       "    </tr>\n",
       "    <tr>\n",
       "      <th>3</th>\n",
       "      <td>2023-04-01</td>\n",
       "      <td>64</td>\n",
       "      <td>Spribe_Original</td>\n",
       "      <td>Aviator</td>\n",
       "      <td>Instant Win</td>\n",
       "      <td>200.0</td>\n",
       "      <td>223.48</td>\n",
       "      <td>27.86</td>\n",
       "      <td>Y</td>\n",
       "    </tr>\n",
       "    <tr>\n",
       "      <th>4</th>\n",
       "      <td>2023-04-01</td>\n",
       "      <td>64</td>\n",
       "      <td>Spribe_Original</td>\n",
       "      <td>Mines</td>\n",
       "      <td>Instant Win</td>\n",
       "      <td>28.0</td>\n",
       "      <td>5.33</td>\n",
       "      <td>0.06</td>\n",
       "      <td>Y</td>\n",
       "    </tr>\n",
       "  </tbody>\n",
       "</table>\n",
       "</div>"
      ],
      "text/plain": [
       "       Month     ID             Provider Name Game Name Game Type Name  \\\n",
       "0 2023-04-01  93897           Spribe_Original   Aviator    Instant Win   \n",
       "1 2023-04-01  93897           Spribe_Original     Mines    Instant Win   \n",
       "2 2023-04-01     64  Infingames_PragmaticPlay  888 Gold          Slots   \n",
       "3 2023-04-01     64           Spribe_Original   Aviator    Instant Win   \n",
       "4 2023-04-01     64           Spribe_Original     Mines    Instant Win   \n",
       "\n",
       "   Qty. Spin  Turnover  Profit Client   \n",
       "0       17.0      2.72   -0.46       Y  \n",
       "1      144.0     36.93    2.39       Y  \n",
       "2      861.0    277.29   25.18       Y  \n",
       "3      200.0    223.48   27.86       Y  \n",
       "4       28.0      5.33    0.06       Y  "
      ]
     },
     "execution_count": 34,
     "metadata": {},
     "output_type": "execute_result"
    }
   ],
   "source": [
    "#check first 5 row\n",
    "df.head()"
   ]
  },
  {
   "cell_type": "code",
   "execution_count": 35,
   "metadata": {},
   "outputs": [
    {
     "name": "stdout",
     "output_type": "stream",
     "text": [
      "Month             datetime64[ns]\n",
      "ID                         int64\n",
      "Provider Name             object\n",
      "Game Name                 object\n",
      "Game Type Name            object\n",
      "Qty. Spin                float64\n",
      "Turnover                 float64\n",
      "Profit                   float64\n",
      "Client                    object\n",
      "dtype: object\n"
     ]
    }
   ],
   "source": [
    "data_types = df.dtypes\n",
    "print(data_types)"
   ]
  },
  {
   "cell_type": "code",
   "execution_count": 36,
   "metadata": {},
   "outputs": [],
   "source": [
    "# Remove rows with null values\n",
    "df = df.dropna()\n",
    "\n",
    "# Remove duplicate rows\n",
    "df = df.drop_duplicates()"
   ]
  },
  {
   "cell_type": "code",
   "execution_count": 37,
   "metadata": {},
   "outputs": [],
   "source": [
    "#define path\n",
    "new_file_path = r'C:\\Users\\Admin\\bi-engineer-interview-task-project\\Task Sample files\\Data for Task\\Casino Data Cleaned.csv'\n",
    "# Save the cleaned data to a new CSV file\n",
    "df.to_csv(new_file_path, index=False)"
   ]
  },
  {
   "cell_type": "code",
   "execution_count": null,
   "metadata": {},
   "outputs": [],
   "source": []
  }
 ],
 "metadata": {
  "kernelspec": {
   "display_name": "Python 3",
   "language": "python",
   "name": "python3"
  },
  "language_info": {
   "codemirror_mode": {
    "name": "ipython",
    "version": 3
   },
   "file_extension": ".py",
   "mimetype": "text/x-python",
   "name": "python",
   "nbconvert_exporter": "python",
   "pygments_lexer": "ipython3",
   "version": "3.12.1"
  }
 },
 "nbformat": 4,
 "nbformat_minor": 2
}
